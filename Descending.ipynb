{
  "nbformat": 4,
  "nbformat_minor": 0,
  "metadata": {
    "colab": {
      "provenance": [],
      "authorship_tag": "ABX9TyON43v7YUjyocvgpJW197pE",
      "include_colab_link": true
    },
    "kernelspec": {
      "name": "python3",
      "display_name": "Python 3"
    },
    "language_info": {
      "name": "python"
    }
  },
  "cells": [
    {
      "cell_type": "markdown",
      "metadata": {
        "id": "view-in-github",
        "colab_type": "text"
      },
      "source": [
        "<a href=\"https://colab.research.google.com/github/surya612NRI/Basic-calculator/blob/main/Descending.ipynb\" target=\"_parent\"><img src=\"https://colab.research.google.com/assets/colab-badge.svg\" alt=\"Open In Colab\"/></a>"
      ]
    },
    {
      "cell_type": "code",
      "execution_count": null,
      "metadata": {
        "id": "ucKtU3N_Nz5z"
      },
      "outputs": [],
      "source": [
        "\n",
        "# descending order list\n",
        "def list_num(numbers):\n",
        "    return sorted(numbers, reverse=True)\n",
        "\n",
        "# Enter numbers\n",
        "user_input = input(\"Enter numbers separated by spaces: \")\n",
        "\n",
        "# Convert the number to  list\n",
        "numbers_list = [int(num) for num in user_input.split()]\n",
        "\n",
        "# Call the function and store the result\n",
        "result = list_num(numbers_list)\n",
        "\n",
        "#  show the result\n",
        "print(\"The list in descending order is:\", result)"
      ]
    }
  ]
}